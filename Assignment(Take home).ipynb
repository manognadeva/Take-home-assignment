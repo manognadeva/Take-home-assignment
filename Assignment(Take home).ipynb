{
 "cells": [
  {
   "cell_type": "markdown",
   "id": "ad271be5-a2ba-4b4b-b3a5-972a97d426a9",
   "metadata": {},
   "source": [
    "#### Importing Necessary libraries"
   ]
  },
  {
   "cell_type": "code",
   "execution_count": 1,
   "id": "428a81d1-06f4-4f2c-9a81-e5f05a000c45",
   "metadata": {},
   "outputs": [],
   "source": [
    "from IPython import display\n",
    "import math\n",
    "from pprint import pprint\n",
    "import pandas as pd\n",
    "import numpy as np\n",
    "import nltk\n",
    "import matplotlib.pyplot as plt\n",
    "import seaborn as sns\n",
    "sns.set(style='darkgrid', context='talk', palette='Dark2')"
   ]
  },
  {
   "cell_type": "code",
   "execution_count": 2,
   "id": "48752dc2-86bb-4669-acfa-325f1f9eebb0",
   "metadata": {},
   "outputs": [],
   "source": [
    "import praw\n",
    "\n",
    "reddit = praw.Reddit(client_id='aiWW79orV0Vt-wbDP9n7LA',\n",
    "                     client_secret='BcAUksyRZPCj4kgZRg_dS8_5XHtIQg',\n",
    "                     user_agent='Assignment')"
   ]
  },
  {
   "cell_type": "markdown",
   "id": "89ad70ac-98c0-4282-95e8-05e34e68c7c1",
   "metadata": {},
   "source": [
    "### Data Collection:"
   ]
  },
  {
   "cell_type": "code",
   "execution_count": 3,
   "id": "70e29ab6-3656-4074-8905-19b07f18dda9",
   "metadata": {},
   "outputs": [],
   "source": [
    "trials = set()"
   ]
  },
  {
   "cell_type": "code",
   "execution_count": 4,
   "id": "8e028ff0-4e50-4e1a-9628-0252445c78b7",
   "metadata": {},
   "outputs": [
    {
     "name": "stdout",
     "output_type": "stream",
     "text": [
      "https://www.reddit.com/r/clinicaltrials/comments/bguvdx/clinical_trial_for_healthy_malesfemales_in_san/\n",
      "47\n"
     ]
    }
   ],
   "source": [
    "for submission in reddit.subreddit('clinicaltrials').new(limit=None):\n",
    "    trials.add(submission.title)\n",
    "    display.clear_output()\n",
    "    print(submission.url)\n",
    "    print(len(trials))"
   ]
  },
  {
   "cell_type": "markdown",
   "id": "7d40cc2c-ef2d-4f82-a8d4-2fe2cc593336",
   "metadata": {},
   "source": [
    "### Sentiment analysis:"
   ]
  },
  {
   "cell_type": "code",
   "execution_count": 5,
   "id": "8471ed4b-8a66-48ba-9b6d-a3f51f9f5142",
   "metadata": {},
   "outputs": [
    {
     "name": "stdout",
     "output_type": "stream",
     "text": [
      "[{'compound': 0.6124,\n",
      "  'neg': 0.0,\n",
      "  'neu': 0.667,\n",
      "  'pos': 0.333,\n",
      "  'trials': '158 Recently Updated Clinical Trials - actively recruiting healthy volunteers as of '\n",
      "            '2021-07-15'},\n",
      " {'compound': 0.6124,\n",
      "  'neg': 0.0,\n",
      "  'neu': 0.667,\n",
      "  'pos': 0.333,\n",
      "  'trials': '100 Recently Updated Clinical Trials - actively recruiting healthy volunteers as of '\n",
      "            '2021-07-21'},\n",
      " {'compound': 0.4995, 'neg': 0.0, 'neu': 0.382, 'pos': 0.618, 'trials': 'Covans Dallas TX'}]\n"
     ]
    }
   ],
   "source": [
    "from nltk.sentiment.vader import SentimentIntensityAnalyzer as SIA\n",
    "\n",
    "sia = SIA()\n",
    "results = []\n",
    "\n",
    "for line in trials:\n",
    "    pol_score = sia.polarity_scores(line)\n",
    "    pol_score['trials'] = line\n",
    "    results.append(pol_score)\n",
    "\n",
    "pprint(results[:3], width=100)"
   ]
  },
  {
   "cell_type": "code",
   "execution_count": 6,
   "id": "8484484e-d138-4679-aa07-e986953a3fe5",
   "metadata": {},
   "outputs": [
    {
     "data": {
      "text/html": [
       "<div>\n",
       "<style scoped>\n",
       "    .dataframe tbody tr th:only-of-type {\n",
       "        vertical-align: middle;\n",
       "    }\n",
       "\n",
       "    .dataframe tbody tr th {\n",
       "        vertical-align: top;\n",
       "    }\n",
       "\n",
       "    .dataframe thead th {\n",
       "        text-align: right;\n",
       "    }\n",
       "</style>\n",
       "<table border=\"1\" class=\"dataframe\">\n",
       "  <thead>\n",
       "    <tr style=\"text-align: right;\">\n",
       "      <th></th>\n",
       "      <th>neg</th>\n",
       "      <th>neu</th>\n",
       "      <th>pos</th>\n",
       "      <th>compound</th>\n",
       "      <th>trials</th>\n",
       "    </tr>\n",
       "  </thead>\n",
       "  <tbody>\n",
       "    <tr>\n",
       "      <th>0</th>\n",
       "      <td>0.0</td>\n",
       "      <td>0.667</td>\n",
       "      <td>0.333</td>\n",
       "      <td>0.6124</td>\n",
       "      <td>158 Recently Updated Clinical Trials - activel...</td>\n",
       "    </tr>\n",
       "    <tr>\n",
       "      <th>1</th>\n",
       "      <td>0.0</td>\n",
       "      <td>0.667</td>\n",
       "      <td>0.333</td>\n",
       "      <td>0.6124</td>\n",
       "      <td>100 Recently Updated Clinical Trials - activel...</td>\n",
       "    </tr>\n",
       "    <tr>\n",
       "      <th>2</th>\n",
       "      <td>0.0</td>\n",
       "      <td>0.382</td>\n",
       "      <td>0.618</td>\n",
       "      <td>0.4995</td>\n",
       "      <td>Covans Dallas TX</td>\n",
       "    </tr>\n",
       "    <tr>\n",
       "      <th>3</th>\n",
       "      <td>0.0</td>\n",
       "      <td>1.000</td>\n",
       "      <td>0.000</td>\n",
       "      <td>0.0000</td>\n",
       "      <td>The Story of Mucinex - How a Common Drug Becam...</td>\n",
       "    </tr>\n",
       "    <tr>\n",
       "      <th>4</th>\n",
       "      <td>0.0</td>\n",
       "      <td>1.000</td>\n",
       "      <td>0.000</td>\n",
       "      <td>0.0000</td>\n",
       "      <td>CBD RESEARCH STUDY: PTSD AND TBI (NYC)</td>\n",
       "    </tr>\n",
       "  </tbody>\n",
       "</table>\n",
       "</div>"
      ],
      "text/plain": [
       "   neg    neu    pos  compound  \\\n",
       "0  0.0  0.667  0.333    0.6124   \n",
       "1  0.0  0.667  0.333    0.6124   \n",
       "2  0.0  0.382  0.618    0.4995   \n",
       "3  0.0  1.000  0.000    0.0000   \n",
       "4  0.0  1.000  0.000    0.0000   \n",
       "\n",
       "                                              trials  \n",
       "0  158 Recently Updated Clinical Trials - activel...  \n",
       "1  100 Recently Updated Clinical Trials - activel...  \n",
       "2                                   Covans Dallas TX  \n",
       "3  The Story of Mucinex - How a Common Drug Becam...  \n",
       "4             CBD RESEARCH STUDY: PTSD AND TBI (NYC)  "
      ]
     },
     "execution_count": 6,
     "metadata": {},
     "output_type": "execute_result"
    }
   ],
   "source": [
    "df = pd.DataFrame.from_records(results)\n",
    "df.head()"
   ]
  },
  {
   "cell_type": "markdown",
   "id": "86db7a5d-075d-40dc-81f0-9edd1e722a6b",
   "metadata": {},
   "source": [
    "#### Assign Labels Based on Compound Sentiment Score"
   ]
  },
  {
   "cell_type": "code",
   "execution_count": 7,
   "id": "2aba104b-7ca2-425a-9dfb-b754b029c301",
   "metadata": {},
   "outputs": [
    {
     "data": {
      "text/html": [
       "<div>\n",
       "<style scoped>\n",
       "    .dataframe tbody tr th:only-of-type {\n",
       "        vertical-align: middle;\n",
       "    }\n",
       "\n",
       "    .dataframe tbody tr th {\n",
       "        vertical-align: top;\n",
       "    }\n",
       "\n",
       "    .dataframe thead th {\n",
       "        text-align: right;\n",
       "    }\n",
       "</style>\n",
       "<table border=\"1\" class=\"dataframe\">\n",
       "  <thead>\n",
       "    <tr style=\"text-align: right;\">\n",
       "      <th></th>\n",
       "      <th>neg</th>\n",
       "      <th>neu</th>\n",
       "      <th>pos</th>\n",
       "      <th>compound</th>\n",
       "      <th>trials</th>\n",
       "      <th>label</th>\n",
       "    </tr>\n",
       "  </thead>\n",
       "  <tbody>\n",
       "    <tr>\n",
       "      <th>0</th>\n",
       "      <td>0.0</td>\n",
       "      <td>0.667</td>\n",
       "      <td>0.333</td>\n",
       "      <td>0.6124</td>\n",
       "      <td>158 Recently Updated Clinical Trials - activel...</td>\n",
       "      <td>1</td>\n",
       "    </tr>\n",
       "    <tr>\n",
       "      <th>1</th>\n",
       "      <td>0.0</td>\n",
       "      <td>0.667</td>\n",
       "      <td>0.333</td>\n",
       "      <td>0.6124</td>\n",
       "      <td>100 Recently Updated Clinical Trials - activel...</td>\n",
       "      <td>1</td>\n",
       "    </tr>\n",
       "    <tr>\n",
       "      <th>2</th>\n",
       "      <td>0.0</td>\n",
       "      <td>0.382</td>\n",
       "      <td>0.618</td>\n",
       "      <td>0.4995</td>\n",
       "      <td>Covans Dallas TX</td>\n",
       "      <td>1</td>\n",
       "    </tr>\n",
       "    <tr>\n",
       "      <th>3</th>\n",
       "      <td>0.0</td>\n",
       "      <td>1.000</td>\n",
       "      <td>0.000</td>\n",
       "      <td>0.0000</td>\n",
       "      <td>The Story of Mucinex - How a Common Drug Becam...</td>\n",
       "      <td>0</td>\n",
       "    </tr>\n",
       "    <tr>\n",
       "      <th>4</th>\n",
       "      <td>0.0</td>\n",
       "      <td>1.000</td>\n",
       "      <td>0.000</td>\n",
       "      <td>0.0000</td>\n",
       "      <td>CBD RESEARCH STUDY: PTSD AND TBI (NYC)</td>\n",
       "      <td>0</td>\n",
       "    </tr>\n",
       "  </tbody>\n",
       "</table>\n",
       "</div>"
      ],
      "text/plain": [
       "   neg    neu    pos  compound  \\\n",
       "0  0.0  0.667  0.333    0.6124   \n",
       "1  0.0  0.667  0.333    0.6124   \n",
       "2  0.0  0.382  0.618    0.4995   \n",
       "3  0.0  1.000  0.000    0.0000   \n",
       "4  0.0  1.000  0.000    0.0000   \n",
       "\n",
       "                                              trials  label  \n",
       "0  158 Recently Updated Clinical Trials - activel...      1  \n",
       "1  100 Recently Updated Clinical Trials - activel...      1  \n",
       "2                                   Covans Dallas TX      1  \n",
       "3  The Story of Mucinex - How a Common Drug Becam...      0  \n",
       "4             CBD RESEARCH STUDY: PTSD AND TBI (NYC)      0  "
      ]
     },
     "execution_count": 7,
     "metadata": {},
     "output_type": "execute_result"
    }
   ],
   "source": [
    "df['label'] = 0\n",
    "df.loc[df['compound'] > 0.2, 'label'] = 1\n",
    "df.loc[df['compound'] < -0.2, 'label'] = -1\n",
    "df.head()"
   ]
  },
  {
   "cell_type": "markdown",
   "id": "40908de0-52df-4166-be98-5b3927d9a72a",
   "metadata": {},
   "source": [
    "#### Saving Labeled Data to CSV"
   ]
  },
  {
   "cell_type": "code",
   "execution_count": 8,
   "id": "9fc111e4-0d7d-49b0-ac36-c6134f8e8a59",
   "metadata": {},
   "outputs": [],
   "source": [
    "df2 = df[['trials', 'label']]\n",
    "df2.to_csv('reddit_trials_labels.csv', mode='a', encoding='utf-8', index=False)"
   ]
  },
  {
   "cell_type": "markdown",
   "id": "cd1b74b6-f642-4316-a8c0-3ffa86656d02",
   "metadata": {},
   "source": [
    "#### Counting Sentiment Labels"
   ]
  },
  {
   "cell_type": "code",
   "execution_count": 9,
   "id": "c8ba65e0-7109-48e5-a4db-fbd1bf6d4326",
   "metadata": {},
   "outputs": [
    {
     "data": {
      "text/plain": [
       " 0    24\n",
       " 1    19\n",
       "-1     4\n",
       "Name: label, dtype: int64"
      ]
     },
     "execution_count": 9,
     "metadata": {},
     "output_type": "execute_result"
    }
   ],
   "source": [
    "df.label.value_counts()"
   ]
  },
  {
   "cell_type": "markdown",
   "id": "9afa16d3-e73a-4c5f-a056-c012c3d21e87",
   "metadata": {},
   "source": [
    "#### Load sentiment analysis data"
   ]
  },
  {
   "cell_type": "code",
   "execution_count": 11,
   "id": "3afc8c6d-652d-409c-a043-063d8bb4fee0",
   "metadata": {},
   "outputs": [],
   "source": [
    "sentiment_data = pd.read_csv('reddit_trials_labels.csv')"
   ]
  },
  {
   "cell_type": "markdown",
   "id": "3ea62457-fd08-4f62-b06b-d2a3613bbf3a",
   "metadata": {},
   "source": [
    "### Message Generation"
   ]
  },
  {
   "cell_type": "code",
   "execution_count": 14,
   "id": "383c8e64-6564-4bb3-b136-d66f23ea8c8e",
   "metadata": {},
   "outputs": [
    {
     "data": {
      "text/html": [
       "<div>\n",
       "<style scoped>\n",
       "    .dataframe tbody tr th:only-of-type {\n",
       "        vertical-align: middle;\n",
       "    }\n",
       "\n",
       "    .dataframe tbody tr th {\n",
       "        vertical-align: top;\n",
       "    }\n",
       "\n",
       "    .dataframe thead th {\n",
       "        text-align: right;\n",
       "    }\n",
       "</style>\n",
       "<table border=\"1\" class=\"dataframe\">\n",
       "  <thead>\n",
       "    <tr style=\"text-align: right;\">\n",
       "      <th></th>\n",
       "      <th>trials</th>\n",
       "      <th>message</th>\n",
       "    </tr>\n",
       "  </thead>\n",
       "  <tbody>\n",
       "    <tr>\n",
       "      <th>0</th>\n",
       "      <td>Video on Eroom's Law (Opposite of Moore's Law ...</td>\n",
       "      <td>Have you participated in clinical trials befor...</td>\n",
       "    </tr>\n",
       "    <tr>\n",
       "      <th>1</th>\n",
       "      <td>59 Recently Updated Clinical Trials - actively...</td>\n",
       "      <td>Have you participated in clinical trials befor...</td>\n",
       "    </tr>\n",
       "    <tr>\n",
       "      <th>2</th>\n",
       "      <td>Research Study for Co-occurring Chronic Pain a...</td>\n",
       "      <td>Have you participated in clinical trials befor...</td>\n",
       "    </tr>\n",
       "    <tr>\n",
       "      <th>3</th>\n",
       "      <td>120 Recently Updated Clinical Trials - activel...</td>\n",
       "      <td>Have you participated in clinical trials befor...</td>\n",
       "    </tr>\n",
       "    <tr>\n",
       "      <th>4</th>\n",
       "      <td>Webinar Tomorrow: Hear how experiential data a...</td>\n",
       "      <td>Have you participated in clinical trials befor...</td>\n",
       "    </tr>\n",
       "  </tbody>\n",
       "</table>\n",
       "</div>"
      ],
      "text/plain": [
       "                                              trials  \\\n",
       "0  Video on Eroom's Law (Opposite of Moore's Law ...   \n",
       "1  59 Recently Updated Clinical Trials - actively...   \n",
       "2  Research Study for Co-occurring Chronic Pain a...   \n",
       "3  120 Recently Updated Clinical Trials - activel...   \n",
       "4  Webinar Tomorrow: Hear how experiential data a...   \n",
       "\n",
       "                                             message  \n",
       "0  Have you participated in clinical trials befor...  \n",
       "1  Have you participated in clinical trials befor...  \n",
       "2  Have you participated in clinical trials befor...  \n",
       "3  Have you participated in clinical trials befor...  \n",
       "4  Have you participated in clinical trials befor...  "
      ]
     },
     "execution_count": 14,
     "metadata": {},
     "output_type": "execute_result"
    }
   ],
   "source": [
    "def generate_message(sentiment):\n",
    "    if sentiment == 1:\n",
    "        return \"Would you like to participate in other trials. Need similar recommendations?\"\n",
    "    elif sentiment == 0:\n",
    "        return \"Let us know if you have any questions or if we can provide more information so you can be a part of clinical trials.\"\n",
    "    else:\n",
    "        return \"Have you participated in clinical trials before? Do have any queries regarding participation in clinical trials?\"\n",
    "        \n",
    "sentiment_data['message'] = sentiment_data['label'].apply(generate_message)\n",
    "sentiment_data[['trials', 'message']].head()"
   ]
  },
  {
   "cell_type": "code",
   "execution_count": null,
   "id": "d9932d4d-589e-44e4-a92e-2dde5b30b82c",
   "metadata": {},
   "outputs": [],
   "source": []
  }
 ],
 "metadata": {
  "kernelspec": {
   "display_name": "Python 3 (ipykernel)",
   "language": "python",
   "name": "python3"
  },
  "language_info": {
   "codemirror_mode": {
    "name": "ipython",
    "version": 3
   },
   "file_extension": ".py",
   "mimetype": "text/x-python",
   "name": "python",
   "nbconvert_exporter": "python",
   "pygments_lexer": "ipython3",
   "version": "3.11.5"
  }
 },
 "nbformat": 4,
 "nbformat_minor": 5
}
